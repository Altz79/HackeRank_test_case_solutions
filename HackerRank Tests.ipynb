{
 "cells": [
  {
   "cell_type": "code",
   "execution_count": null,
   "id": "0a77246a",
   "metadata": {},
   "outputs": [],
   "source": [
    "#iterate over dictionary, change value by condition\n",
    "\n",
    "thisdict = {\n",
    "  \"number_1\": 1,\n",
    "  \"number_2\": 2,\n",
    "  \"number_3\": 3,\n",
    "  \"number_4\": 4,\n",
    "}\n",
    "\n",
    "for key, value in thisdict.items():\n",
    "    if value % 2 != 0:\n",
    "        thisdict[key] = value + 2\n",
    "    else:\n",
    "        pass\n",
    "    \n",
    "#{'number_1': 3, 'number_2': 2, 'number_3': 5, 'number_4': 4}"
   ]
  },
  {
   "cell_type": "code",
   "execution_count": null,
   "id": "7a1f33a1",
   "metadata": {},
   "outputs": [],
   "source": [
    "doctor = ['house', 'cuddy', 'chase', 'thirteen', 'wilson']"
   ]
  },
  {
   "cell_type": "code",
   "execution_count": null,
   "id": "98ec887d",
   "metadata": {},
   "outputs": [],
   "source": [
    "new_doc = [x[:1] for x in doctor]\n",
    "print(new_doc)"
   ]
  },
  {
   "cell_type": "code",
   "execution_count": null,
   "id": "a5ab4985",
   "metadata": {},
   "outputs": [],
   "source": [
    "import numpy as np\n",
    "\n",
    "my_list = [1, 2, 3, 4, 5, 6, 7, 8]\n",
    "my_arr = np.array(my_list)\n",
    "print(my_arr)"
   ]
  },
  {
   "cell_type": "code",
   "execution_count": null,
   "id": "06fbfba7",
   "metadata": {},
   "outputs": [],
   "source": [
    "# Find if number present in the array\n",
    "\n",
    "def findNumber(arr, k):\n",
    "    value = ''\n",
    "    for element in arr:\n",
    "        if k in arr:\n",
    "            value = \"YES\"\n",
    "        else:\n",
    "            value = \"NO\"\n",
    "    return value\n",
    "\n",
    "result = findNumber(my_arr, 3)\n",
    "print(result)"
   ]
  },
  {
   "cell_type": "code",
   "execution_count": null,
   "id": "fdadc068",
   "metadata": {},
   "outputs": [],
   "source": [
    "#find the odd number between two given numbers\n",
    "\n",
    "def oddNumbers(l, r):\n",
    "    x = range(l, r+1)\n",
    "    my_list = []\n",
    "    for element in x:\n",
    "        if element % 2 != 0:\n",
    "            my_list.append(element)\n",
    "        else:\n",
    "            pass\n",
    "    return my_list\n",
    "\n",
    "result = oddNumbers(2, 11)\n",
    "print(result)"
   ]
  },
  {
   "cell_type": "code",
   "execution_count": null,
   "id": "9eabe553",
   "metadata": {},
   "outputs": [],
   "source": [
    "#find the odd number between two given numbers. Version_2\n",
    "\n",
    "import numpy as np\n",
    "\n",
    "def oddNumbers(l, r):\n",
    "    x = np.array(range(l, r+1))\n",
    "    new_arr = x[x % 2 != 0]\n",
    "    return new_arr\n",
    "\n",
    "result = oddNumbers(2, 11)\n",
    "print(result)"
   ]
  },
  {
   "cell_type": "code",
   "execution_count": null,
   "id": "0793214c",
   "metadata": {},
   "outputs": [],
   "source": [
    "# Ration of pos, neg, zero values in an array\n",
    "\n",
    "my_list = [-4, 3, -9, 0, 4, 1]\n",
    "my_arr = np.array(my_list)\n",
    "\n",
    "def plus_minus(arr):\n",
    "    x = len(arr)\n",
    "    zeros = 0\n",
    "    negative = 0\n",
    "    positive = 0\n",
    "    for element in arr:\n",
    "        if element == 0:\n",
    "            zeros += 1\n",
    "        elif element < 0:\n",
    "            negative += 1\n",
    "        else:\n",
    "            positive += 1\n",
    "    propor_pos = round((positive / x), 6)\n",
    "    propor_neg = round((negative / x), 6)\n",
    "    propor_zer = round((zeros / x), 6)\n",
    "    print(propor_pos, propor_neg, propor_zer, sep=\"\\n\")\n",
    "    \n",
    "plus_minus(my_arr)"
   ]
  },
  {
   "cell_type": "code",
   "execution_count": null,
   "id": "e2da95d8",
   "metadata": {},
   "outputs": [],
   "source": [
    "# Min and Max possible sums of 4 integers out of 5\n",
    "\n",
    "def miniMaxSum(arr):\n",
    "    arr_sorted = sorted(arr)\n",
    "    x = sum(arr_sorted[:4])\n",
    "    y = sum(arr_sorted[-4:])\n",
    "    print(x, y)\n",
    "    \n",
    "new_arr_1 = np.array([1, 2, 3, 4, 5])\n",
    "miniMaxSum(new_arr_1)"
   ]
  },
  {
   "cell_type": "code",
   "execution_count": null,
   "id": "25bb08c0",
   "metadata": {},
   "outputs": [],
   "source": [
    "# convert time from 12 to 24 h format\n",
    "\n",
    "def timeConversion(s):\n",
    "    if s[-2:] == \"AM\" and s[:2] == \"12\":\n",
    "        return \"00\" + str1[2:-2]\n",
    "    elif s[-2:] == \"AM\":\n",
    "        return s[:-2]\n",
    "    elif s[-2:] == \"PM\" and s[:2] == \"12\":\n",
    "        return s[:-2]\n",
    "    else:\n",
    "        return str(int(s[:2]) + 12) + s[2:8]\n",
    "    \n",
    "timeConversion('07:05:45PM')"
   ]
  },
  {
   "cell_type": "code",
   "execution_count": 29,
   "id": "07a67460",
   "metadata": {},
   "outputs": [
    {
     "name": "stdout",
     "output_type": "stream",
     "text": [
      "4\n"
     ]
    }
   ],
   "source": [
    "# find unique element of an array\n",
    "import numpy as np\n",
    "\n",
    "def lonelyinteger(a):\n",
    "    new_list = a.tolist()\n",
    "    new_value = [x for x in a if new_list.count(x) == 1]\n",
    "    integer_from_list = [str(integer) for integer in new_value]\n",
    "    int_string = \"\".join(integer_from_list)\n",
    "    return int(int_string)\n",
    "\n",
    "array_unique = np.array([1,2,3,4,3,2,1])\n",
    "result = lonelyinteger(array_unique)\n",
    "print(result)\n",
    "    "
   ]
  },
  {
   "cell_type": "code",
   "execution_count": null,
   "id": "d4ed64dd",
   "metadata": {},
   "outputs": [],
   "source": [
    "# Calculate absolute difference between matrix diagonal\n",
    "\n",
    "def diagonalDifference(arr):\n",
    "    n = len(arr)\n",
    "    diag1 = sum(arr[i][i] for i in range(n))\n",
    "    diag2 = sum(arr[i][n-i-1] for i in range(n))\n",
    "    dif = abs(diag1 - diag2)\n",
    "    return dif\n",
    "\n",
    "lst = [[1,2,3],[4,5,6],[9,8,9]]\n",
    "result = diagonalDifference(lst)\n",
    "print(result)"
   ]
  },
  {
   "cell_type": "code",
   "execution_count": null,
   "id": "5342acf9",
   "metadata": {},
   "outputs": [],
   "source": [
    "# counting sort\n",
    "# increase that index in a new list - which value (number) appear in the original list. 33 appear 4 time > index 33 will be 4.\n",
    "\n",
    "def countingSort(arr):\n",
    "    output = [0] * (max(arr)+1)\n",
    "    for element in arr:\n",
    "        output[element] += 1\n",
    "    return output"
   ]
  },
  {
   "cell_type": "code",
   "execution_count": null,
   "id": "3d524d61",
   "metadata": {},
   "outputs": [],
   "source": [
    "# Maximize sum of N X N upper left sub-matrix from given 2N X 2N matrix\n",
    "\n",
    "matrix = [[1,2], [3,4]]\n",
    " \n",
    "n = len(matrix)\n",
    "n_1 = len(matrix[0])\n",
    " \n",
    "def flippingMatrix_maxSum_upper_left(matrix):\n",
    " \n",
    "    value = 0\n",
    "    for i in range(0, n // 2):\n",
    "        for j in range(0, n_1 // 2):\n",
    "         \n",
    "            r1, r2 = i, n - i - 1\n",
    "            c1, c2 = j, n_1 - j - 1\n",
    "                 \n",
    "            # We can replace current cell [i, j]\n",
    "            # with 4 cells without changing/affecting\n",
    "            # other elements.\n",
    "            value += max(max(matrix[r1][c1], matrix[r1][c2]),\n",
    "                       max(matrix[r2][c1], matrix[r2][c2]))\n",
    "         \n",
    "    return value"
   ]
  },
  {
   "cell_type": "code",
   "execution_count": null,
   "id": "e8f721d2",
   "metadata": {},
   "outputs": [],
   "source": []
  },
  {
   "cell_type": "code",
   "execution_count": null,
   "id": "4b18dde4",
   "metadata": {},
   "outputs": [],
   "source": [
    "# Caesar Cipher\n",
    "# shift each letter by a number of letters\n",
    "\n",
    "original_alpha = ['a', 'b', 'c', 'd', 'e', 'f', 'g', 'h', 'i', 'j', 'k', 'l', 'm', 'n', 'o', 'p', 'q', 'r', 's', 't', 'u', 'v', 'w', 'x', 'y', 'z']"
   ]
  },
  {
   "cell_type": "code",
   "execution_count": null,
   "id": "51a484b3",
   "metadata": {},
   "outputs": [],
   "source": [
    "# My_variant\n",
    "\n",
    "n = 2\n",
    "my_string = 'middle-O'\n",
    "my_string = my_string.lower()\n",
    "\n",
    "# index each element from given string with same element index in original_alpha\n",
    "\n",
    "index_element = [([idx for idx, val in enumerate(original_alpha) if val == sub] if sub in original_alpha else [100]) for sub in my_string]\n",
    "\n",
    "# convert into flat list of indexes\n",
    "index_list = [item for sublist in index_element for item in sublist]\n",
    "\n",
    "new_string = ''\n",
    "\n",
    "for element in index_list:\n",
    "    if element != 100:\n",
    "        new_string += original_alpha[element+n]\n",
    "    else:\n",
    "        new_string += '-'\n",
    "print(new_string)"
   ]
  },
  {
   "cell_type": "code",
   "execution_count": null,
   "id": "24345447",
   "metadata": {},
   "outputs": [],
   "source": [
    "#working solution\n",
    "\n",
    "def encrypt(text, s):\n",
    "    result = \"\"\n",
    " \n",
    "    # traverse text\n",
    "    for i in range(len(text)):\n",
    "        char = text[i]\n",
    " \n",
    "        # Encrypt uppercase characters\n",
    "        if (char.isupper()):\n",
    "            result += chr((ord(char) + s-65) % 26 + 65)\n",
    "        elif not(char.isalpha()):\n",
    "            result += char\n",
    " \n",
    "        # Encrypt lowercase characters\n",
    "        else:\n",
    "            result += chr((ord(char) + s - 97) % 26 + 97)\n",
    " \n",
    "    return result\n",
    "\n",
    "my_string = 'middle-Outz'\n",
    "print(encrypt(my_string, 2))"
   ]
  },
  {
   "cell_type": "code",
   "execution_count": null,
   "id": "a62d2585",
   "metadata": {},
   "outputs": [],
   "source": []
  },
  {
   "cell_type": "code",
   "execution_count": null,
   "id": "fd53bedb",
   "metadata": {},
   "outputs": [],
   "source": [
    "#ZigZag sequence with 3 code changes\n",
    "\n",
    "def findZigZagSequence_1(a, n):\n",
    "    a.sort()\n",
    "    mid = int((n + 1)/2)\n",
    "    a[mid], a[n-2] = a[n-2], a[mid]\n",
    "\n",
    "    st = mid - 1\n",
    "    ed = n-1\n",
    "    while(st < mid):\n",
    "        a[st], a[ed] = a[ed], a[st]\n",
    "        st = st + 1\n",
    "        ed = ed + 1\n",
    "\n",
    "    for i in range (n):\n",
    "        if i == n-1:\n",
    "            print(a[i])\n",
    "        else:\n",
    "            print(a[i], end = ' ')\n",
    "    return a\n",
    "\n",
    "a = [1,8,9,5,11,44,4]\n",
    "print(findZigZagSequence_1(a, 7))"
   ]
  },
  {
   "cell_type": "code",
   "execution_count": null,
   "id": "e2907b29",
   "metadata": {},
   "outputs": [],
   "source": [
    "# ZigZag sequence shorter variant\n",
    "\n",
    "def findZigZagSequence_1(a, n):\n",
    "    a.sort()\n",
    "    mid = int((n + 1)/2)\n",
    "    a[mid-1], a[n-1] = a[n-1], a[mid-1]\n",
    "    a[mid], a[n-2] = a[n-2], a[mid]\n",
    "    return a\n",
    "\n",
    "a = [1,9,121,544,500,41,76]\n",
    "print(findZigZagSequence_1(a, 7))"
   ]
  },
  {
   "cell_type": "code",
   "execution_count": null,
   "id": "5392e70c",
   "metadata": {},
   "outputs": [],
   "source": [
    "# count the number of words in a string\n",
    "\n",
    "import string\n",
    "\n",
    "def func_1(sentence):\n",
    "    sentence = sentence.replace('-','')\n",
    "    words_no_hyphens = sum([i.strip(string.punctuation).isalpha() for i in sentence.split()])\n",
    "    return words_no_hyphens\n",
    "\n",
    "sentence = 'he is a good programmer, he won 865 competitions, but sometimes he dont. What do you think? All test-cases should pass. Done-done?'\n",
    "result_1 = func_1(sentence)\n",
    "print(result_1)"
   ]
  },
  {
   "cell_type": "code",
   "execution_count": null,
   "id": "24c57748",
   "metadata": {},
   "outputs": [],
   "source": [
    "def findLargestSquare(mat):\n",
    "    value = [[0 for x in range(len(samples[0]))] for y in range(len(samples))]\n",
    "    max = 0\n",
    "    for i in range(len(samples)):\n",
    "        for j in range(len(samples[0])):\n",
    "            value[i][j] = samples[i][j]\n",
    "            if i > 0 and j > 0 and samples[i][j] == 1:\n",
    "                value[i][j] = min(value[i][j - 1], value[i - 1][j], value[i - 1][j - 1]) + 1\n",
    "            if max < value[i][j]:\n",
    "                max = value[i][j]\n",
    "    return max\n",
    "samples = [[1,1,1],[1,1,0],[1,0,1]]\n",
    "findLargestSquare(samples)"
   ]
  },
  {
   "cell_type": "code",
   "execution_count": null,
   "id": "63a7130c",
   "metadata": {},
   "outputs": [],
   "source": []
  },
  {
   "cell_type": "code",
   "execution_count": null,
   "id": "25b9e10d",
   "metadata": {},
   "outputs": [],
   "source": [
    "# print Fibonacci numbers before given N (n = 100):\n",
    "a = 0\n",
    "b = 1\n",
    "while a <= 100:\n",
    "    print (a)\n",
    "    c = a+b\n",
    "    a = b\n",
    "    b = c"
   ]
  },
  {
   "cell_type": "code",
   "execution_count": null,
   "id": "4a59a6a4",
   "metadata": {},
   "outputs": [],
   "source": [
    "# print triangle of stars\n",
    "\n",
    "for i in range(0, 5):\n",
    "    for j in range(0, i+1):\n",
    "        print(\"* \", end = \"\")\n",
    "    print(\"\\r\")"
   ]
  },
  {
   "cell_type": "code",
   "execution_count": null,
   "id": "771c11d8",
   "metadata": {},
   "outputs": [],
   "source": [
    "# Check if all occurance of \"a\" appers before \"b\"\n",
    "\n",
    "def func_1(S):\n",
    "    if len(S) > 2: #if S != \"ba\":\n",
    "        check = False\n",
    "        i = 0\n",
    "        n = len(S)\n",
    "        while (i < n) :\n",
    "            if (S[i] == 'a') :    \n",
    "                if (check == True):\n",
    "                    return False\n",
    "                while (i < n and S[i] == 'a') :\n",
    "                    i = i + 1\n",
    "                check = True\n",
    "            else:\n",
    "                i = i + 1\n",
    "        return True\n",
    "    else:\n",
    "        return False\n",
    "\n",
    "my_var = 'bbbb'\n",
    "result = func_1(my_var)\n",
    "print(result)"
   ]
  },
  {
   "cell_type": "code",
   "execution_count": null,
   "id": "82711bed",
   "metadata": {},
   "outputs": [],
   "source": [
    "# generate a list of all possible coordinates on a 3D grid where the sum of Xi + Yi + Zi is not equal to N. \n",
    "x = 1\n",
    "y = 1\n",
    "z = 1\n",
    "n = 2\n",
    "\n",
    "from itertools import product\n",
    "result = [list(i) for i in product(range(x + 1), range(y + 1), range(z + 1)) if sum(i) != n]\n",
    "print(result)"
   ]
  },
  {
   "cell_type": "code",
   "execution_count": 40,
   "id": "14b37209",
   "metadata": {},
   "outputs": [
    {
     "name": "stdout",
     "output_type": "stream",
     "text": [
      "5\n"
     ]
    }
   ],
   "source": [
    "# The runner-up score for a given list, with possible negative values\n",
    "\n",
    "list_test = [2, -3, 6, 6, 5]\n",
    "no_dupl = list(set(list_test))\n",
    "no_dupl.sort()\n",
    "print(no_dupl[-2])"
   ]
  },
  {
   "cell_type": "code",
   "execution_count": null,
   "id": "63bfd577",
   "metadata": {},
   "outputs": [],
   "source": [
    "# Given the names and grades for each student in a class of \n",
    "# students, store them in a nested list and print the name(s) \n",
    "# of any student(s) having the second lowest grade.\n",
    "\n",
    "if __name__ == '__main__':\n",
    "    final_list = []\n",
    "    for _ in range(int(input())):\n",
    "        name = input()\n",
    "        score = float(input())\n",
    "        my_list = [name, score] # create list of given input data\n",
    "        final_list.append(my_list) # create list of lists\n",
    "    sorted_num_val = sorted([x[1] for x in final_list]) # get numeric values\n",
    "    sorted_unique = []\n",
    "    [sorted_unique.append(x) for x in sorted_num_val if x not in sorted_unique] # remove duplicates to address negative scores\n",
    "    names_value = sorted([x[0] for x in final_list if x[1] == sorted_unique[1]]) # get name values for second lowest grade\n",
    "    print(*names_value, sep = \"\\n\")\n",
    "\n",
    "# Output: Berry, Harry"
   ]
  },
  {
   "cell_type": "code",
   "execution_count": 7,
   "id": "8c9a9400",
   "metadata": {},
   "outputs": [],
   "source": [
    "# count sub-string occurance with overlapping \n",
    "\n",
    "import re\n",
    "def count_substring(string, sub_string):\n",
    "    return len(re.findall('(?={0})'.format(re.escape(sub_string)), string))"
   ]
  },
  {
   "cell_type": "code",
   "execution_count": 29,
   "id": "74cb5941",
   "metadata": {},
   "outputs": [
    {
     "name": "stdout",
     "output_type": "stream",
     "text": [
      "True\n",
      "True\n",
      "True\n",
      "True\n",
      "True\n"
     ]
    }
   ],
   "source": [
    "#check if string contains any of symbols accordingly to provided string methods\n",
    "\n",
    "s = \"qA2\"\n",
    "alphanumeric = [c for c in s if c.isalnum()]\n",
    "alphabetical = [c for c in s if c.isalpha()]\n",
    "digits = [c for c in s if c.isdigit()]\n",
    "lowercase_letters = [c for c in s if c.islower()]\n",
    "uppercase_letters = [c for c in s if c.isupper()]\n",
    "if len(alphanumeric) >= 1:\n",
    "    print(True)\n",
    "else:\n",
    "    print(False)\n",
    "if len(alphabetical) >= 1:\n",
    "    print(True)\n",
    "else:\n",
    "    print(False)\n",
    "if len(digits) >= 1:\n",
    "    print(True)\n",
    "else:\n",
    "    print(False)\n",
    "if len(lowercase_letters) >= 1:\n",
    "    print(True)\n",
    "else:\n",
    "    print(False)\n",
    "if len(uppercase_letters) >= 1:\n",
    "    print(True)\n",
    "else:\n",
    "    print(False)"
   ]
  },
  {
   "cell_type": "code",
   "execution_count": 37,
   "id": "d64818f8",
   "metadata": {},
   "outputs": [
    {
     "name": "stdout",
     "output_type": "stream",
     "text": [
      "1 2\n"
     ]
    }
   ],
   "source": [
    "# convert list elements to string\n",
    "\n",
    "integer_list = [1, 2]\n",
    "string_my = ' '.join([str(item) for item in sorted(integer_list)])\n",
    "print(string_my)"
   ]
  },
  {
   "cell_type": "code",
   "execution_count": 39,
   "id": "51044e75",
   "metadata": {},
   "outputs": [
    {
     "name": "stdout",
     "output_type": "stream",
     "text": [
      "hACKERrANK.COM PRESENTS 'pYTHONIST 2'.\n"
     ]
    }
   ],
   "source": [
    "# Swap cases in given string: convert lower case to upper and vice versa\n",
    "\n",
    "string_case = \"HackerRank.com presents 'Pythonist 2'.\"\n",
    "\n",
    "new_string = ''\n",
    "for element in string_case:\n",
    "    if element.islower():\n",
    "        new_string += element.upper()\n",
    "    else:\n",
    "        new_string += element.lower()\n",
    "print(new_string)\n",
    "\n",
    "#output: \"hACKERrANK.COM PRESENTS \"pYTHONIST 2\".\""
   ]
  },
  {
   "cell_type": "code",
   "execution_count": null,
   "id": "79e38291",
   "metadata": {},
   "outputs": [],
   "source": []
  }
 ],
 "metadata": {
  "kernelspec": {
   "display_name": "Python 3",
   "language": "python",
   "name": "python3"
  },
  "language_info": {
   "codemirror_mode": {
    "name": "ipython",
    "version": 3
   },
   "file_extension": ".py",
   "mimetype": "text/x-python",
   "name": "python",
   "nbconvert_exporter": "python",
   "pygments_lexer": "ipython3",
   "version": "3.8.8"
  }
 },
 "nbformat": 4,
 "nbformat_minor": 5
}
